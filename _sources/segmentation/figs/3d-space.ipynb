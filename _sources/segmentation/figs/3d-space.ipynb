{
 "cells": [
  {
   "cell_type": "markdown",
   "metadata": {},
   "source": [
    "# Limits of K-means clustering"
   ]
  },
  {
   "cell_type": "code",
   "execution_count": 1,
   "metadata": {},
   "outputs": [],
   "source": [
    "import numpy as np\n",
    "from skimage import img_as_ubyte\n",
    "import matplotlib.pyplot as plt"
   ]
  },
  {
   "cell_type": "code",
   "execution_count": 2,
   "metadata": {},
   "outputs": [
    {
     "data": {
      "image/png": "[encoded data removed]",
      "text/plain": [
       "<Figure size 432x288 with 1 Axes>"
      ]
     },
     "metadata": {
      "needs_background": "light"
     },
     "output_type": "display_data"
    }
   ],
   "source": [
    "# Image cadre (couleurs à affecter)\n",
    "c = np.array([\n",
    "    [2, 2, 2, 2, 2],\n",
    "    [2, 2, 3, 2, 2],\n",
    "    [0, 0, 1, 1, 1],\n",
    "    [0, 0, 1, 1, 1],\n",
    "    [0, 0, 1, 1, 1],\n",
    "])\n",
    "\n",
    "# Couleurs types\n",
    "colors = np.array([\n",
    "    [76, 198, 244],\n",
    "    [255, 153, 51],\n",
    "    [210, 76, 180],\n",
    "    [0, 128, 50],\n",
    "])/255\n",
    "\n",
    "# Affichage\n",
    "plt.figure()\n",
    "plt.imshow(c)\n",
    "plt.show()"
   ]
  },
  {
   "cell_type": "code",
   "execution_count": 3,
   "metadata": {},
   "outputs": [],
   "source": [
    "# Image non bruitée\n",
    "M, N = c.shape\n",
    "img = np.zeros((M,N,3))\n",
    "for m in range(M):\n",
    "    for n in range(N):\n",
    "        img[m,n,:] = colors[c[m,n]]        \n",
    "        \n",
    "# Image bruitée\n",
    "img += np.random.normal(0,.07,img.shape)\n",
    "img = np.clip(img, 0, 1)\n",
    "img = img_as_ubyte(img)"
   ]
  },
  {
   "cell_type": "code",
   "execution_count": 4,
   "metadata": {},
   "outputs": [],
   "source": [
    "# Vectorisation des coordonnées et des couleurs\n",
    "x = img[:,:,0].ravel()\n",
    "y = img[:,:,1].ravel()\n",
    "z = img[:,:,2].ravel()\n",
    "c = np.reshape(img,(M*N,3))/255"
   ]
  },
  {
   "cell_type": "code",
   "execution_count": 37,
   "metadata": {},
   "outputs": [
    {
     "data": {
      "image/png": "[encoded data removed]",
      "text/plain": [
       "<Figure size 576x288 with 2 Axes>"
      ]
     },
     "metadata": {},
     "output_type": "display_data"
    }
   ],
   "source": [
    "# Affichage\n",
    "\n",
    "fig = plt.figure(figsize=(8,4), facecolor='w')\n",
    "\n",
    "# Image\n",
    "ax = fig.add_subplot(1,2,1)\n",
    "ax.set_position([0.05,0,.3,1])\n",
    "ax.imshow(img)\n",
    "ax.set_xticks([])\n",
    "ax.set_yticks([])\n",
    "\n",
    "# Affichage 3D\n",
    "ax = fig.add_subplot(1,2,2,projection='3d')\n",
    "ax.set_position([.45,0,.5,1])\n",
    "ax.scatter(x, y, z, marker=\"o\", c=c, s=50, alpha=1)\n",
    "ax.set_xlabel(\"Red\")\n",
    "ax.set_ylabel(\"Green\")\n",
    "ax.set_zlabel(\"Blue\")\n",
    "ax.view_init(elev=20, azim=30)\n",
    "\n",
    "# Hide axes ticks\n",
    "ax.set_xticks([])\n",
    "ax.set_yticks([])\n",
    "ax.set_zticks([])\n",
    "ax.set_xlim([0, 256])\n",
    "ax.set_ylim([0, 256])\n",
    "ax.set_zlim([0, 256])\n",
    "\n",
    "ax.xaxis._axinfo['juggled'] = (0,0,0)\n",
    "ax.yaxis._axinfo['juggled'] = (1,1,1)\n",
    "ax.zaxis._axinfo['juggled'] = (2,2,2)\n",
    "\n",
    "ax.plot([0,256], [0,0], [0,0], 'k', linewidth=1)\n",
    "ax.plot([0,0], [0,256], [0,0], 'k', linewidth=1)\n",
    "ax.plot([0,0], [0,0], [0,256], [0,0], 'k', linewidth=1)\n",
    "\n",
    "plt.savefig(\"3d-space.svg\")\n",
    "plt.show()"
   ]
  }
 ],
 "metadata": {
  "kernelspec": {
   "display_name": "Python 3 (ipykernel)",
   "language": "python",
   "name": "python3"
  },
  "language_info": {
   "codemirror_mode": {
    "name": "ipython",
    "version": 3
   },
   "file_extension": ".py",
   "mimetype": "text/x-python",
   "name": "python",
   "nbconvert_exporter": "python",
   "pygments_lexer": "ipython3",
   "version": "3.9.7"
  }
 },
 "nbformat": 4,
 "nbformat_minor": 4
}
