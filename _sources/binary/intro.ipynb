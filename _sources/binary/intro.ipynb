{
 "cells": [
  {
   "cell_type": "markdown",
   "id": "87946132-56cf-48d4-90d6-cf67e6d525ba",
   "metadata": {},
   "source": [
    "(binary:intro)=\n",
    "# Introduction\n",
    "\n",
    "A binary image is an image whose pixels take only two values, typically 0 and 1\n",
    "(but ​​it can be 0 or 255, False or True, black or white, etc.).\n",
    "A binary image can result from a segmentation, and the techniques presented in this chapter can help to improve the result.\n",
    "\n",
    "So, we consider that the images contain objects (represented by white pixels) on a background (black pixels),\n",
    "as in {numref}`mm:mickey`.\n",
    "\n",
    "```{figure} set-union.png\n",
    "---\n",
    "name: mm:mickey\n",
    "---\n",
    "Example of a binary image composed of an object (a famous mouse head) on a background.\n",
    "```\n",
    "\n",
    "After a short section introducing the concepts of [neighborhood and connectivity](C:binary:neighborhood),\n",
    "the basic operators of mathematical morphology ([dilation](C:binary:dilation) and [erosion](C:binary:erosion),\n",
    "and their combination [opening](C:binary:opening) and [closing](C:binary:closing)) are presented.\n",
    "Multiple tools have been created from these operators, we focus on four of these tools:\n",
    "[top-hat transform](C:binary:top-hat-transform)\n",
    "[granulometry](C:binary:granulometry)\n",
    "[hit-or-miss transform](C:binary:hit-or-miss-transform)\n",
    "and [skeleton](C:binary:skeleton).\n",
    "Finally, we deal with [measuring the geometric characteristics](binary:measure) of binary objects."
   ]
  }
 ],
 "metadata": {
  "kernelspec": {
   "display_name": "Python 3 (ipykernel)",
   "language": "python",
   "name": "python3"
  },
  "language_info": {
   "codemirror_mode": {
    "name": "ipython",
    "version": 3
   },
   "file_extension": ".py",
   "mimetype": "text/x-python",
   "name": "python",
   "nbconvert_exporter": "python",
   "pygments_lexer": "ipython3",
   "version": "3.9.7"
  }
 },
 "nbformat": 4,
 "nbformat_minor": 5
}
