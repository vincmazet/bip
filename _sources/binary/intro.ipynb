{
 "cells": [
  {
   "cell_type": "markdown",
   "id": "87946132-56cf-48d4-90d6-cf67e6d525ba",
   "metadata": {},
   "source": [
    "(binary:intro)=\n",
    "# Introduction\n",
    "\n",
    "<!-- ❌\n",
    "Image binaire = image avec des pixels blancs et noirs, notés 0 et 1.\n",
    "Notez que c'est parfois le résultat d'une segmentation, donc ce qu'on va voir ici ce sont aussi des techniques pour améliorer le résultat d'une segmentation.\n",
    "- il y a la MM qui va modifier l'image binaire en considérant celle-ci comme un des objets blancs sur un fond noir\n",
    "- des méthodes de calcul des objets (centroïde, aire, eccentricité...), [expliquer l'intérêt]\n",
    "- le calcul des moments, [expliquer l'intérêt]\n",
    "- \n",
    "mais avant [le dire avant ?] on va définir des voisinages entre objets-->\n",
    "\n",
    "\n",
    "\n",
    "<!-- Dans le Jahne : quelques exos et interactivités -->\n",
    "\n",
    "<!-- \n",
    "Mathematical morphology gathers several techniques that apply to binary images,\n",
    "the latter result for example from thresholding.\n",
    "The pixels in binary images take only two values: 0 or 1, true or false, white or black, etc.\n",
    "In this chapter, we consider that the images contain objects (represented by white pixels) on a background (black pixels),\n",
    "as in {numref}`mm:mickey`.\n",
    "\n",
    "```{figure} set-union.png\n",
    "---\n",
    "name: mm:mickey\n",
    "---\n",
    "Example of a binary image composed of an object (a famous mouse head) on a background.\n",
    "```\n",
    "\n",
    "The basic operators of mathematical morphology, namely [dilation](mm:dilation) and [erosion](mm:erosion) are first presented.\n",
    "The combination of these two operators allows the definition of new operators, namely [opening](mm:opening), [closing](mm:closing)\n",
    "and the [hit-or-miss transform](mm:hit-or-miss).\n",
    "A comparison of the operators is then presented.\n",
    "At last, we deal with [measuring the geometric characteristics](mm:measure) of binary objects.\n",
    "\n",
    "Before beginning, we need to introduce some basic notions.\n",
    "\n",
    "**Ce chapitre est un peu différent des autres cas il ne traite pas d'un problème de traitement d'images mais d'un outil. La morphologie mathématique est  [définition et historique]. Dans ce chapitre, nous commençons par présenter les deux opérations de base : l'érosion et la dilatation, et les opérations qui en découlent : l'ouverture et la fermeture. Nous terminons le chapitre sur des outils plus complexes, comme la transformée tout-ou-rien [continuer la liste si je rajoute des choses, comme la granulométrie, le squelette, l'aminicissement et l'épaississement, évt fonction distance...]** -->\n"
   ]
  }
 ],
 "metadata": {
  "kernelspec": {
   "display_name": "Python 3 (ipykernel)",
   "language": "python",
   "name": "python3"
  },
  "language_info": {
   "codemirror_mode": {
    "name": "ipython",
    "version": 3
   },
   "file_extension": ".py",
   "mimetype": "text/x-python",
   "name": "python",
   "nbconvert_exporter": "python",
   "pygments_lexer": "ipython3",
   "version": "3.9.7"
  }
 },
 "nbformat": 4,
 "nbformat_minor": 5
}
