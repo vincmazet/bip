{
 "cells": [
  {
   "cell_type": "markdown",
   "id": "6ec02d7d-eb4e-4ac4-84dd-c0c7fba003c2",
   "metadata": {},
   "source": [
    "(C:binary:neighborhood)=\n",
    "# Neighborhood and connectivity\n",
    "\n",
    "In a usual image, a pixel at coordinates $(m,n)$ has four horizontal and vertical neighbors\n",
    "whose coordinates are given by\n",
    "\n",
    "$$\n",
    "(m+1,n),\\quad\n",
    "(m-1,n),\\quad\n",
    "(m,n+1),\\quad\n",
    "(m,n-1).\n",
    "$$\n",
    "\n",
    "Considering these 4 neighbors, we speak of 4-connectivity (french: _4-connexité_).\n",
    "\n",
    "Besides, there are also four diagonal pixels with coordinates\n",
    "\n",
    "$$\n",
    "(m+1,n+1),\\quad\n",
    "(m+1,n-1),\\quad\n",
    "(m-1,n+1),\\quad\n",
    "(m-1,n-1).\n",
    "$$\n",
    "\n",
    "These pixels, together with the 4-neighbors, are the 8 neighbors in 8-connectivity (french: _8-connexité_).\n",
    "\n",
    "```{figure} neighborhood.svg\n",
    "---\n",
    "width: 400px\n",
    "---\n",
    "The neighbors of the green pixel are represented in red,\n",
    "with 4-connectivity (left) and 8-connectivity (right).\n",
    "```\n",
    "\n",
    "A path between two pixels with coordinates $(m_1,n_1)$ and $(m_N,n_N)$ is a sequence of pixels\n",
    "such that two consecutive pixels are neighbors in the considered connectivity.\n",
    "\n",
    "Let $S$ represent a set of pixels in an image.\n",
    "Two pixels are said to be connected if there exists a path between them consisting entirely of pixels in $S$.\n",
    "\n",
    "The set of pixels that are connected is called a connected component (french: _composante connexe_).\n",
    "\n",
    "```{figure} connectivity.svg\n",
    "---\n",
    "width: 200px\n",
    "---\n",
    "In this image, there are 2 connected components with 4-connectivity,\n",
    "but only 1 connected component with 8-connectivity.\n",
    "```"
   ]
  }
 ],
 "metadata": {
  "kernelspec": {
   "display_name": "Python 3 (ipykernel)",
   "language": "python",
   "name": "python3"
  },
  "language_info": {
   "codemirror_mode": {
    "name": "ipython",
    "version": 3
   },
   "file_extension": ".py",
   "mimetype": "text/x-python",
   "name": "python",
   "nbconvert_exporter": "python",
   "pygments_lexer": "ipython3",
   "version": "3.9.7"
  }
 },
 "nbformat": 4,
 "nbformat_minor": 5
}
