{
 "cells": [
  {
   "cell_type": "markdown",
   "metadata": {},
   "source": [
    "(labs:cor14)=\n",
    "# 4 Create a simple image"
   ]
  },
  {
   "cell_type": "markdown",
   "metadata": {},
   "source": [
    "## Objectives\n",
    "\n",
    "* synthesize an RGB image (and know, for example, that yellow = green + red)\n",
    "* manipulate the value / color correspondence\n",
    "* use the `:` operator"
   ]
  },
  {
   "cell_type": "markdown",
   "metadata": {},
   "source": [
    "## Image synthesis"
   ]
  },
  {
   "cell_type": "markdown",
   "metadata": {},
   "source": [
    "As usual, do not forget the modules:"
   ]
  },
  {
   "cell_type": "code",
   "execution_count": 1,
   "metadata": {},
   "outputs": [],
   "source": [
    "import numpy as np\n",
    "import matplotlib.pyplot as plt"
   ]
  },
  {
   "cell_type": "markdown",
   "metadata": {},
   "source": [
    "The image is composed of blocks of homogeneous color with size 20 × 20 pixels, so as to form an image of 40 × 80 pixels.\n",
    "Also, it contains three bands as it is an RGB image.\n",
    "Therefore we create an array `f` of size 40 × 80 × 3:"
   ]
  },
  {
   "cell_type": "code",
   "execution_count": 2,
   "metadata": {},
   "outputs": [],
   "source": [
    "f = np.zeros((40,80,3))"
   ]
  },
  {
   "cell_type": "markdown",
   "metadata": {},
   "source": [
    "We use [Additive color](https://en.wikipedia.org/wiki/Additive_color) to create the colors.\n",
    "Thus, yellow is obtained by combining green and red."
   ]
  },
  {
   "cell_type": "code",
   "execution_count": 3,
   "metadata": {},
   "outputs": [],
   "source": [
    "f[ 0:20 ,   :   , 0 ] = 1   # Red band = band 0   (top row: pixels 0 to 19)\n",
    "f[  :   ,  0:40 , 1 ] = 1   # Green band = band 1 (the two columns on the left)\n",
    "f[  :   , 20:60 , 2 ] = 1   # Blue band = band 2  (the two columns at the center)"
   ]
  },
  {
   "cell_type": "markdown",
   "metadata": {},
   "source": [
    "The bands can be displayed separately:"
   ]
  },
  {
   "cell_type": "code",
   "execution_count": 4,
   "metadata": {},
   "outputs": [
    {
     "data": {
      "image/png": "[encoded data removed]",
      "text/plain": [
       "<Figure size 1080x504 with 3 Axes>"
      ]
     },
     "metadata": {
      "needs_background": "light"
     },
     "output_type": "display_data"
    }
   ],
   "source": [
    "plt.figure(figsize=(15,7))\n",
    "\n",
    "plt.subplot(1,3,1)\n",
    "plt.imshow(f[:,:,0], cmap=\"gray\")\n",
    "plt.title('Red band')\n",
    "\n",
    "plt.subplot(1,3,2)\n",
    "plt.imshow(f[:,:,1], cmap=\"gray\")\n",
    "plt.title('Green band')\n",
    "\n",
    "plt.subplot(1,3,3)\n",
    "plt.imshow(f[:,:,2], cmap=\"gray\")\n",
    "plt.title('Blue band')\n",
    "\n",
    "plt.show()"
   ]
  },
  {
   "cell_type": "markdown",
   "metadata": {},
   "source": [
    "And finally the color image:"
   ]
  },
  {
   "cell_type": "code",
   "execution_count": 5,
   "metadata": {},
   "outputs": [
    {
     "data": {
      "image/png": "[encoded data removed]",
      "text/plain": [
       "<Figure size 432x288 with 1 Axes>"
      ]
     },
     "metadata": {
      "needs_background": "light"
     },
     "output_type": "display_data"
    }
   ],
   "source": [
    "plt.imshow(f)\n",
    "plt.show()"
   ]
  }
 ],
 "metadata": {
  "kernelspec": {
   "display_name": "Python 3 (ipykernel)",
   "language": "python",
   "name": "python3"
  },
  "language_info": {
   "codemirror_mode": {
    "name": "ipython",
    "version": 3
   },
   "file_extension": ".py",
   "mimetype": "text/x-python",
   "name": "python",
   "nbconvert_exporter": "python",
   "pygments_lexer": "ipython3",
   "version": "3.9.7"
  }
 },
 "nbformat": 4,
 "nbformat_minor": 4
}
