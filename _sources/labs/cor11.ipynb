{
 "cells": [
  {
   "cell_type": "markdown",
   "metadata": {},
   "source": [
    "(labs:cor11)=\n",
    "# 1 Getting started"
   ]
  },
  {
   "cell_type": "markdown",
   "metadata": {
    "tags": [
     "remove-cell"
    ]
   },
   "source": [
    "<hr>\n",
    "\n",
    "## 📌 Commentaires pour les intervenants\n",
    "\n",
    "Ce premier TP se déroule bien en général. Certains étudiants non francophones et certains médecins peuvent avoir de grandes difficultés, mais sinon le niveau est plutôt homogène.\n",
    "\n",
    "Au démarrage de la séance, commencez par vous présentez puis embrayez ensuite sur le test :\n",
    "* test en version papier ;\n",
    "* correction orale du test ;\n",
    "\n",
    "Ensuite, un mot d'introduction et rappelez l'organisation du TP :\n",
    "* boot sous Ubuntu (s'ils n'ont pas encore d'identifiant, utiliser :\n",
    "  login = **telecom**, mdp = **Tel2023!**) ;\n",
    "* expliquer, en utilisant le vidéoprojecteur, comment ouvrir et utiliser Jupyter Lab,\n",
    "  la notion de cellule et comment les exécuter, le markdown et son intérêt ;\n",
    "* précisez à ceux qui utiliseraient leurs PC perso de vérifier les versions des modules\n",
    "  (cf « Writing code » dans le chapitre « Installing and using Python »)\n",
    "  car cela peut conduire à des bugs ;\n",
    "* TP en effectuant les exercices les uns après les autres ;\n",
    "* correction disponible : aux étudiants de s'y référer.\n",
    "\n",
    "Bien sûr, vous restez disponibles pour répondre aux questions des étudiants, et vous pour ne pas vous embêter n'hésitez pas à leur poser des questions !\n",
    "\n",
    "Les années précédentes, les étudiants faisaient les 5 ou 6 premiers exercices.\n",
    "C'est bien s'ils vont plus loin, mais il est inutile de forcer le rythme :\n",
    "je préfère qu'ils aient bien assimilé les premières notions,\n",
    "plutôt qu'ils aient survolé toutes les notions.\n",
    "\n",
    "De manière générale, les étudiants connaissent mal Python, et pratiquement pas la notion de notebook Jupyter, de cellules, etc.\n",
    "Il faut donc bien les coacher sur le début, en vérifiant notamment :\n",
    "* que tout le code ne soit pas dans une unique cellule ;\n",
    "* que les imports de modules se font (à partir du 2e ou 3e exercice) tout au début du code ;\n",
    "* qu'ils prennent la bonne habitude d'insérer des cellules de markdown pour mettre un titre et des commentaires sur les résultats.\n",
    "\n",
    "Vous pouvez interrompre le TP en demandant l'attention pour faire un point oral (au vidéoprojecteur ou au tableau), par exemple :\n",
    "* l'ouverture et l'utilisation de Jupyter Lab,\n",
    "  la notion de cellule et comment les exécuter, le markdown et son intérêt (en début de séance) ;\n",
    "* l'extraction de pixels avec la commande `f[a:b,c:d]` (un petit schéma peut être intéressant).\n",
    "  C'est un point qui pose des difficultés à certains dans l'exercice « Create a simple image » ;\n",
    "\n",
    "Je passerai pendant la séance dans toutes les salles pour me présenter et voir comment ça se passe.\n",
    "\n",
    "<hr>"
   ]
  },
  {
   "cell_type": "markdown",
   "metadata": {},
   "source": [
    "## Objectives\n",
    "\n",
    "* discover and know how to write a Python program\n",
    "* discover and know how to use a notebook\n",
    "* write by using the markdown syntax\n",
    "* manipulate variables"
   ]
  },
  {
   "cell_type": "markdown",
   "metadata": {},
   "source": [
    "## Code cells\n",
    "\n",
    "The two cells containing codes should be:"
   ]
  },
  {
   "cell_type": "code",
   "execution_count": 1,
   "metadata": {},
   "outputs": [
    {
     "data": {
      "text/plain": [
       "42"
      ]
     },
     "execution_count": 1,
     "metadata": {},
     "output_type": "execute_result"
    }
   ],
   "source": [
    "40 + 2"
   ]
  },
  {
   "cell_type": "code",
   "execution_count": 2,
   "metadata": {},
   "outputs": [
    {
     "name": "stdout",
     "output_type": "stream",
     "text": [
      "BIP 2022\n"
     ]
    }
   ],
   "source": [
    "year = 2023\n",
    "course = \"BIP\"\n",
    "print(f\"{course} {year}\")"
   ]
  },
  {
   "cell_type": "markdown",
   "metadata": {},
   "source": [
    "## Markdown cell\n",
    "\n",
    "The markdown cell should be:\n",
    "\n",
    "```\n",
    "## New exercise\n",
    "\n",
    "Write **bold**, _italic_ or equations: $\\sqrt{2}$.\n",
    "```"
   ]
  },
  {
   "cell_type": "markdown",
   "metadata": {},
   "source": [
    "to get:\n",
    "\n",
    "::::{grid} 1\n",
    ":gutter: 3\n",
    "\n",
    ":::{grid-item-card}\n",
    "<html><h2 style=\"margin-top:0ex\">New exercise</h2></html>\n",
    "\n",
    "Write **bold**, _italic_ or equations: $\\sqrt{2}$.\n",
    "\n",
    ":::\n",
    "::::"
   ]
  }
 ],
 "metadata": {
  "kernelspec": {
   "display_name": "Python 3 (ipykernel)",
   "language": "python",
   "name": "python3"
  },
  "language_info": {
   "codemirror_mode": {
    "name": "ipython",
    "version": 3
   },
   "file_extension": ".py",
   "mimetype": "text/x-python",
   "name": "python",
   "nbconvert_exporter": "python",
   "pygments_lexer": "ipython3",
   "version": "3.9.7"
  }
 },
 "nbformat": 4,
 "nbformat_minor": 4
}
