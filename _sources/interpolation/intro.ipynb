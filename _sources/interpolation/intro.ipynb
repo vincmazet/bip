{
 "cells": [
  {
   "cell_type": "markdown",
   "id": "03496b3a-f8a1-4b5c-81c7-6ff49030bb0e",
   "metadata": {},
   "source": [
    "# Introduction\n",
    "\n",
    "<!-- L'interpolation d'une image est le fait de calculer les intensités de nouveaux pixels qui n'existaient pas dans l'image initiale mais qui apparaissent suite à un rééchantillonnage de l'image. Ce rééchantillonnage apparaît par exemple lors du redimensionnement d'une image (cas d'un zoom), au moment de la rotation d'une image ou dans tous les cas où la géométrie de l'image est modifiée. L'idée est de choisir une fonction qui modélise l'évolution spatiale des intensités des pixels et de régler ses paramètres grâce aux intensités des pixels existants. Les intensités des nouveaux pixels sont alors les valeurs de la fonction à l'endroit où se trouvent ces pixels. Dans ce chapitre, nous allons étudier les méthodes d'interpolation les plus courantes : plus proche voisin, bilinéaire, polynomiale, [bicubique]. -->"
   ]
  }
 ],
 "metadata": {
  "kernelspec": {
   "display_name": "Python 3 (ipykernel)",
   "language": "python",
   "name": "python3"
  },
  "language_info": {
   "codemirror_mode": {
    "name": "ipython",
    "version": 3
   },
   "file_extension": ".py",
   "mimetype": "text/x-python",
   "name": "python",
   "nbconvert_exporter": "python",
   "pygments_lexer": "ipython3",
   "version": "3.9.7"
  }
 },
 "nbformat": 4,
 "nbformat_minor": 5
}
