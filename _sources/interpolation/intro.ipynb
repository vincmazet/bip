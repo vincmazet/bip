{
 "cells": [
  {
   "cell_type": "markdown",
   "id": "03496b3a-f8a1-4b5c-81c7-6ff49030bb0e",
   "metadata": {},
   "source": [
    "# Introduction\n",
    "\n",
    "Image interpolation is a tool used extensively when an image is mapped into a predefined geometry,\n",
    "by using transformations such as rescaling, translating, shrinking or rotating.\n",
    "Applications arise in many domains:\n",
    "creating panoramas in photography, returning a cartographic reference in remote sensing,\n",
    "or aligning images on anatomical references in medical imaging.\n",
    "\n",
    "The consequence of a geometric transformation on an image\n",
    "is that the coordinates of the pixels in the input and the output image no longer coincide.\n",
    "Thus the pixel intensities in the output image have to be calculated.\n",
    "\n",
    "```{figure} interp-grid-image.svg\n",
    "---\n",
    "width: 400px\n",
    "name: F:interpolation:principle\n",
    "---\n",
    "Principle of interpolation.\n",
    "The blue and red grids schematize the pixels of the input and ouput images, respectively.\n",
    "The question is: how to compute the intensity of the highlighted pixel of the red grid from the ones of the blue grid?\n",
    "```\n",
    "\n",
    "The basic idea of interpolation is quite simple:\n",
    "first, reconstruct a \"continuous\" image from the discrete input image,\n",
    "then sample this \"continuous\" image onto the grid of the output image.\n",
    "Interpolation methods differ in the way the \"continuous\" image is reconstructed.\n",
    "\n",
    "In the next section are listed the three main interpolation methods:\n",
    "nearest neighbour interpolation (order 0),\n",
    "bilinear interpolation (order 1),\n",
    "and bicubic Interpolation (order 3).\n",
    "In these methods, the \"continuous\" image is built from a polynomial model.\n",
    "The order of the polynomial differs between the interpolation methods."
   ]
  }
 ],
 "metadata": {
  "kernelspec": {
   "display_name": "Python 3 (ipykernel)",
   "language": "python",
   "name": "python3"
  },
  "language_info": {
   "codemirror_mode": {
    "name": "ipython",
    "version": 3
   },
   "file_extension": ".py",
   "mimetype": "text/x-python",
   "name": "python",
   "nbconvert_exporter": "python",
   "pygments_lexer": "ipython3",
   "version": "3.9.7"
  }
 },
 "nbformat": 4,
 "nbformat_minor": 5
}
