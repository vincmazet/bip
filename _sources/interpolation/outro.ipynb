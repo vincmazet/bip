{
 "cells": [
  {
   "cell_type": "markdown",
   "id": "ee13a4a1-01ec-43a3-a771-608e66249e05",
   "metadata": {},
   "source": [
    "# Conclusion\n",
    "\n",
    "In this chapter, we have seen three methods for calculating the intensity of pixels that appear in an image following a modification of the image's geometry.\n",
    "Without any information on the non-existent pixels, it is necessary to define a model that provides the missing information.\n",
    "\n",
    "Nearest neighbor interpolation assigns the intensity of a pixel to the same intensity as the nearest pixel.\n",
    "Bilinear interpolation assigns to the new pixel the value of a surface that passes through the four nearest neighbors of the pixel and that is linear in both dimensions.\n",
    "Bicubic interpolation does the same but uses more neighbors, thus making it possible to consider that the surface is a cubic polynomial in both dimensions."
   ]
  }
 ],
 "metadata": {
  "kernelspec": {
   "display_name": "Python 3 (ipykernel)",
   "language": "python",
   "name": "python3"
  },
  "language_info": {
   "codemirror_mode": {
    "name": "ipython",
    "version": 3
   },
   "file_extension": ".py",
   "mimetype": "text/x-python",
   "name": "python",
   "nbconvert_exporter": "python",
   "pygments_lexer": "ipython3",
   "version": "3.13.5"
  }
 },
 "nbformat": 4,
 "nbformat_minor": 5
}
