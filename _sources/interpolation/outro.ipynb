{
 "cells": [
  {
   "cell_type": "markdown",
   "id": "ee13a4a1-01ec-43a3-a771-608e66249e05",
   "metadata": {},
   "source": [
    "# Conclusion\n",
    "\n",
    "<!-- Nous avons vu dans ce chapitre plusieurs méthodes pour définir l'intensité des pixels qui apparaissent dans une image suite à une modification de la géométrie de celle-ci. Quand il n'existe aucune information sur les pixels inexistants, il faut définir un modèle qui va apporter l'information manquante. Ainsi, l'interpolation au plus proche voisin revient à fixer comme intensité d'un pixel la même intensité que le pixel le plus proche. L'interpolation bilinéaire revient à affecter au pixel la valeur d'une surface qui passe par les quatre voisins les plus proches du pixel et qui est linéaire dans les deux dimensions. L'interpolation polynomiale fait de même mais utilise plus de voisins, permettant ainsi de considérer que la surface est un polynôme dans les deux dimanensions. [bicubique] -->"
   ]
  }
 ],
 "metadata": {
  "kernelspec": {
   "display_name": "Python 3 (ipykernel)",
   "language": "python",
   "name": "python3"
  },
  "language_info": {
   "codemirror_mode": {
    "name": "ipython",
    "version": 3
   },
   "file_extension": ".py",
   "mimetype": "text/x-python",
   "name": "python",
   "nbconvert_exporter": "python",
   "pygments_lexer": "ipython3",
   "version": "3.9.7"
  }
 },
 "nbformat": 4,
 "nbformat_minor": 5
}
