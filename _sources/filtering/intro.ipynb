{
 "cells": [
  {
   "cell_type": "markdown",
   "id": "563f4d0b-cb39-421f-bfc0-b573663eafdb",
   "metadata": {},
   "source": [
    "# Introduction\n",
    "\n",
    "<!-- de formation des images de CC, reprendre : Spectral representation : Fourier spectrum, TFD2D, 2D convolution, multiscale representation -->\n",
    "\n",
    "<!-- Filtering in image processing is a very precise notion that differs from the filters proposed by some apps or softwares.\n",
    "In image processing, filtering consists in amplifying or attenuating some frequencies in the image.\n",
    "To study this notion, we need to introduce two mathematical objects, namely the [](filtering:convolution) and the [](filtering:fourier),\n",
    "thus we will consider both the usual spatial domain of the images, but also the frequency domain.\n",
    "The Fourier transform is the tool to pass from a domain to the other.\n",
    "To know more about the Fourier transform in signal processing,\n",
    "you can read this very\n",
    "[excellent course](https://vincmazet.github.io/signal1/fourier/fourier.html) (in French).\n",
    "\n",
    "\n",
    "\n",
    "Le filtrage d'une image consiste à y appliquer un filtre : c'est un opérateur linéaire qui s'applique sur chaque pixel d'une image pour en modifier son intensité. Chaque pixel est modifié selon la même règle et sa nouvelle intensité dépend de l'intensité originale et de l'intensité des pixels voisins. Ainsi, le filtre s'exprime comme une matrice ou, de façon similaire, à une image. Pour étudier en détail la notion de filtrage, il est indispensable de commencer par introduire deux outils mathémariques. Le premier est le produit de convolution, qui permet de calculer l'effet d'un filtre sur une image. Le second est la transformée de Fourier, qui transforme l'image pour la représenter dans le domaine des fréquences : on introduira alors cette notion de fréquence dans une image et cela permettra d'identifier notamment des filtres passe-bas et passe-haut (qui conserve uniquement certaines fréquences de l'image). Nous en profiterons pour évoquer une autre transformée courante en traitement d'images : la transformée en ondelettes. [Note dans la marge : Aucun rapport avec un filtre snapchat qui est une transformation non linéaire d'une image et donc ne s'exprime pas par un produit de convolution.] -->\n"
   ]
  }
 ],
 "metadata": {
  "kernelspec": {
   "display_name": "Python 3 (ipykernel)",
   "language": "python",
   "name": "python3"
  },
  "language_info": {
   "codemirror_mode": {
    "name": "ipython",
    "version": 3
   },
   "file_extension": ".py",
   "mimetype": "text/x-python",
   "name": "python",
   "nbconvert_exporter": "python",
   "pygments_lexer": "ipython3",
   "version": "3.9.7"
  }
 },
 "nbformat": 4,
 "nbformat_minor": 5
}
