{
 "cells": [
  {
   "cell_type": "markdown",
   "id": "563f4d0b-cb39-421f-bfc0-b573663eafdb",
   "metadata": {},
   "source": [
    "# Introduction\n",
    "\n",
    "```{margin}\n",
    "Filtering in image processing is a very precise notion\n",
    "that differs from the filters proposed by some apps or software\n",
    "(a Snapchat filter is a non-linear transformation of an image and cannot be written\n",
    "as a convolution product).\n",
    "```\n",
    "\n",
    "Filtering an image consists of applying a filter\n",
    "which is a linear operator that is applied to each pixel of an image to modify its intensity.\n",
    "The new intensity depends on the original intensity and the intensity of neighboring pixels.\n",
    "Thus, the filter is expressed as a matrix or, similarly, as an image.\n",
    "To study the concept of filtering,\n",
    "it is essential to start by introducing two mathematical tools.\n",
    "\n",
    "The first tool is [convolution](filtering:convolution),\n",
    "which is the mathematical operation to calculate the effect of a filter on an image.\n",
    "The second tool is the [Fourier transform](filtering:fourier),\n",
    "which represents the image in the frequency domain.\n",
    "Thus we need to introduce the notion of \"frequency\" in an image\n",
    "and this will allow us to deal about low-pass and high-pass filters\n",
    "which only keep certain frequencies of the image."
   ]
  }
 ],
 "metadata": {
  "kernelspec": {
   "display_name": "Python 3 (ipykernel)",
   "language": "python",
   "name": "python3"
  },
  "language_info": {
   "codemirror_mode": {
    "name": "ipython",
    "version": 3
   },
   "file_extension": ".py",
   "mimetype": "text/x-python",
   "name": "python",
   "nbconvert_exporter": "python",
   "pygments_lexer": "ipython3",
   "version": "3.9.7"
  }
 },
 "nbformat": 4,
 "nbformat_minor": 5
}
