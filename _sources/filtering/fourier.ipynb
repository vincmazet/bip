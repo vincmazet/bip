{
 "cells": [
  {
   "cell_type": "markdown",
   "id": "fb0b6cca-f660-4593-b616-879eb951baf5",
   "metadata": {},
   "source": [
    "(filtering:fourier)=\n",
    "# Fourier transform"
   ]
  },
  {
   "cell_type": "markdown",
   "id": "38b77097-fda4-4659-b4b5-3a4a0b91ade5",
   "metadata": {},
   "source": [
    "The (2D) Fourier transform is a very classical tool in image processing.\n",
    "It is the extension of the well known [Fourier transform](https://vincmazet.github.io/signal1/fourier/fourier.html)\n",
    "for signals which decomposes a signal into a sum of complex oscillations (actually, complex exponential).\n",
    "In image processing, the complex oscillations always come by pair because the pixels have real intensities.\n",
    "\n",
    "{numref}`F:fourier:decomposition` shows the decomposition of a synthetic image into oscillations.\n",
    "In this toy-example, the image is simple enough to be decomposed by using only three oscillations.\n",
    "We will see further that usual images need much more oscillations.\n",
    "The Fourier transform gives information about the frequency content of the image,\n",
    "_i.e._ how the intensities in the image are distributed through different frequencies.\n",
    "\n",
    "```{figure} fourier-decomposition.svg\n",
    "---\n",
    "name: F:fourier:decomposition\n",
    "---\n",
    "A synthetic image and the three oscillations (frequencies)\n",
    "that compose the image.\n",
    "The third oscillation (on the right) is of lower frequency than the first two oscillations.\n",
    "```"
   ]
  },
  {
   "cell_type": "markdown",
   "id": "afe6d33c-0053-448b-a60b-377e2b14b9c0",
   "metadata": {},
   "source": [
    "## Direct Fourier transform\n",
    "\n",
    "The discrete Fourier transform (DFT) of an image $f$ of size $M \\times N$ is an image $F$ of same size defined as:\n",
    "\n",
    "$$\n",
    "  F(u,v) = \\sum_{m=0}^{M-1} \\sum_{n=0}^{N-1} f(m,n) e^{-j\\,2\\pi \\left(\\frac{um}{M} + \\frac{vn}{N}\\right)}\n",
    "$$\n",
    "\n",
    "In the sequel, we note $\\mathcal{F}$ the DFT so that $\\mathcal{F}[f] = F$.\n",
    "\n",
    "Note that the definition of the Fourier transform uses a complex exponential.\n",
    "In consequence, the DFT of an image is possibly complex, so it cannot be displayed with a single image.\n",
    "That is why we will show the amplitude (modulus) and phase (argument) of the DFT separately, as in {numref}`F:fourier:example`.\n",
    "\n",
    "```{figure} fourier-example.svg\n",
    "---\n",
    "name: F:fourier:example\n",
    "---\n",
    "DFT of the squirrel. The amplitude is shown with a logarithmic scale to distinguish clearly the details\n",
    "(an [histogram transformation](C:histogram-transformations) has been applied).\n",
    "```\n",
    "\n",
    "The amplitude and phase represent the distribution of energy in the frequency plane.\n",
    "The intensities of the low frequencies are located in the center of the image, and the intensities of the high frequencies near the boundaries.\n",
    "\n",
    "In the figure above, the gray background behind the squirrel is a low frequency area because the intensities of the pixels slowly evolve from one pixel to another.\n",
    "On the contrary, the tail is a high frequency area because the intensities of the pixels show a rapid alternation between the hair and the background."
   ]
  },
  {
   "cell_type": "markdown",
   "id": "97aee0b5-7ca1-42cf-a96f-d28ed23fd435",
   "metadata": {},
   "source": [
    "## Inverse Fourier transform\n",
    "\n",
    "The inverse discrete Fourier transform computes the original image from its Fourier transform:\n",
    "\n",
    "$$\n",
    "  f(m,n) = \\frac{1}{MN} \\sum_{u=0}^{M-1} \\sum_{v=0}^{N-1} F(u,v) e^{+j\\,2\\pi \\left(\\frac{um}{M} + \\frac{vn}{N}\\right)}\n",
    "$$\n",
    "\n",
    "It is denoted $\\mathcal{F}^{-1}$ below."
   ]
  },
  {
   "cell_type": "markdown",
   "id": "19452eff-7310-44aa-be2b-29be5fa4e6ce",
   "metadata": {},
   "source": [
    "## Properties\n",
    "\n",
    "* The DFT is linear:\n",
    "  \n",
    "  $$\n",
    "    \\mathcal{F}[af + bg] = aF + bG\n",
    "    \\qquad\\text{where}\\; a,b\\in\\mathbb{C}.\n",
    "  $$\n",
    "  \n",
    "* The convolution of two images is equivalent to the multiplication of the DFT of the images,\n",
    "  provided that the convolution is circular (wrapping hypothesis on the edges):\n",
    "\n",
    "  $$\n",
    "    f * g = \\mathcal{F}^{-1}[F \\times G]\n",
    "  $$\n",
    "\n",
    "* The DFT is separable: it can be obtained by computing a 1D DFT on the rows, then a 1D DFT on the columns.\n",
    "\n",
    "* The DFT is periodic with periods $M$ and $N$ ($k, l \\in \\mathbb{Z}$):\n",
    "  \n",
    "  $$\n",
    "    F(u,v) = F(u+kM,v) = F(u,v+lN) = F(u+kM,v+lN).\n",
    "  $$\n",
    "\n",
    "* A translation on the image implies a phase shift on the DFT:\n",
    "  \n",
    "  $$\n",
    "    \\mathcal{F}[f(m-m_0,n-n_0)] = F(u,v) \\exp\\left(-j2\\pi\\left(\\frac{um_0}{M}+\\frac{vn_0}{N}\\right)\\right)\n",
    "  $$\n",
    "\n",
    "* A rotation on the image implies the same rotation on the DFT.\n",
    "\n",
    "<!-- Illustrer toutes ces propriétés -->"
   ]
  }
 ],
 "metadata": {
  "kernelspec": {
   "display_name": "Python 3 (ipykernel)",
   "language": "python",
   "name": "python3"
  },
  "language_info": {
   "codemirror_mode": {
    "name": "ipython",
    "version": 3
   },
   "file_extension": ".py",
   "mimetype": "text/x-python",
   "name": "python",
   "nbconvert_exporter": "python",
   "pygments_lexer": "ipython3",
   "version": "3.9.7"
  }
 },
 "nbformat": 4,
 "nbformat_minor": 5
}
