{
 "cells": [
  {
   "cell_type": "markdown",
   "id": "de85403c-88d8-43da-a50e-d81fe9c45a83",
   "metadata": {},
   "source": [
    "# Conclusion\n",
    "\n",
    "<!-- Avant de présenter la notion de filtrage, deux outils mathématiques ont été introduits dans ce chapitre. Le premier est le produit de convolution, noté *, qui calcule la transformation y = h*x d'une image x par un filtre h. Les images y, x et h s'expriment par des matrices, pas forcément de la même taille). Le second outil mathématique est la transformée de Fourier. C'est un opérateur linéaire qui a une image renvoie une image de même taille et qui porte la même information, celle-ci est cependant représentée dans l'espace des fréquences et non l'espace spatial. En général, la sortie de la transformée de Fourier est une image à valeurs complexe et on représente les basses fréquences au centre et les hautes fréquences sur le pourtour. Le filtrage d'une image consiste à appliquer un filtre (appelé aussi PSF) sur une image. En pratique, le résultat du filtrage est le résultat d'une convolution (dans le domaine spatial) ou d'une multiplication (dans le domaine fréquentiel, via la transformée de Fourier). Le filtrage est appliqué par exemple lorsqu'on veut flouter une image (le filtre est alors un passe-bas) ou faire ressortir les contours (le filtre est un passe-haut).\n",
    "\n",
    "\n",
    "\n",
    "\n",
    "\n",
    "Filtering involves the manipulation of frequencies within an image, either by enhancing or attenuating them.\n",
    "It finds application in several image processing tasks,\n",
    "such as image acquisition,\n",
    "where a blurred photo is a (low-pass) filtered version of the original scene.\n",
    "\n",
    "In this chapter, we have seen two mathematical tools used to filter images and analyze their properties.\n",
    "The first one is convolution, which is the mathematical operation used to compute the result of filtering in the usual spatial domain.\n",
    "The second one is the Fourier transform, which gives an image's representation in the frequency domain.\n",
    "Filtering in this domaine comes to a multiplication.\n",
    "Besides, the Fourier transform is used to analyze the frequency content of an image,\n",
    "as we will see in [](denoising) and [](deconvolution).\n",
    "\n",
    "A question remains: is there an inverse convolution operator, like division is the inverse of multiplication?\n",
    "The answer is generally no.\n",
    "Practically, the quantification in the image, the presence of noise and the lack of knowledge of the PSF make the problem hard,\n",
    "justifying a [specific section](deconvolution) to deal with. -->\n",
    "\n",
    "\n",
    "\n",
    "<!-- # Existe-t-il un opérateur inverse de la convolution~? \n",
    "* Ce problème est appelé déconvolution.\n",
    "* Si la PSF est connue et vérifie certaines conditions très particulières (cf. analyse de Fourier)~: c'est possible~!\n",
    "* En pratique, la quantification et le bruit rendent la déconvolution difficile.\n",
    "\n",
    "Jähne, p.119\n",
    "Cette question est importante car des dégradations comme le flou de bougé ou de mauvaise mise au point\n",
    "peuvent être modélisées par une convolution.\n",
    "Si un opérateur inverse existe et si la PSF est connue, alors il est possible de reconstruire l'image d'origine.\n",
    "Le problème de l'inversion d'un filtre est appelé déconvolution ou filtrage inverse.\n",
    "L'analyse de Fourier montrera que la reconstruction est possible pour des PSF très particulières.\n",
    "Dans la pratique, la quantification et le bruit rendent la déconvolution encore plus difficile.\n",
    "-->\n",
    "\n",
    "\n",
    "## References\n",
    "\n",
    "* (B:filtering:Jahne2005)=\n",
    "  B. Jähne,\n",
    "  _Digital Image Processing_,\n",
    "  Springer, 2005."
   ]
  }
 ],
 "metadata": {
  "kernelspec": {
   "display_name": "Python 3 (ipykernel)",
   "language": "python",
   "name": "python3"
  },
  "language_info": {
   "codemirror_mode": {
    "name": "ipython",
    "version": 3
   },
   "file_extension": ".py",
   "mimetype": "text/x-python",
   "name": "python",
   "nbconvert_exporter": "python",
   "pygments_lexer": "ipython3",
   "version": "3.9.7"
  }
 },
 "nbformat": 4,
 "nbformat_minor": 5
}
