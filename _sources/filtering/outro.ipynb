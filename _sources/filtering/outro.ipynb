{
 "cells": [
  {
   "cell_type": "markdown",
   "id": "de85403c-88d8-43da-a50e-d81fe9c45a83",
   "metadata": {},
   "source": [
    "# Conclusion\n",
    "\n",
    "Before introducing the concept of filtering, two mathematical tools are introduced in this chapter.\n",
    "\n",
    "The first tool is the convolution product, denoted $*$,\n",
    "which calculates the transformation $f = g*h$ of an image $g$ by a filter $h$.\n",
    "The images $f$, $g$ and $h$ are expressed as matrices, not necessarily of the same size.\n",
    "\n",
    "The second tool is the Fourier transform.\n",
    "It is a linear operator that returns an image of the same size as the original image.\n",
    "The Fourier transform of an image contains the same information as the original image,\n",
    "but the information is represented in frequency space and not spatial space.\n",
    "In general, the output of the Fourier transform is an image with complex values ​\n",
    "where the low frequencies are in the center and the high frequencies are on the periphery.\n",
    "The Fourier transform could be used to analyze the frequency content of an image,\n",
    "as we will see in [](C:denoising) and [](C:deconvolution).\n",
    "\n",
    "Filtering an image consists of applying a filter (also called PSF) to an image.\n",
    "In practice, filtering is the result of a convolution (in the spatial domain)\n",
    "or a multiplication (in the frequency domain, via the Fourier transform).\n",
    "Filtering could be applied to blur an image (low-pass filter)\n",
    "or highlight the contours (high-pass filter).\n",
    "\n",
    "A question remains:\n",
    "is there an inverse convolution operator, like division is the inverse of multiplication?\n",
    "The answer is generally no.\n",
    "Practically, the quantification in the image, the presence of noise and the lack of knowledge of the PSF make the problem hard,\n",
    "justifying a [specific section](C:deconvolution) to deal with.\n",
    "\n",
    "\n",
    "## References\n",
    "\n",
    "* (B:filtering:Jahne2005)=\n",
    "  B. Jähne,\n",
    "  _Digital Image Processing_,\n",
    "  Springer, 2005."
   ]
  }
 ],
 "metadata": {
  "kernelspec": {
   "display_name": "Python 3 (ipykernel)",
   "language": "python",
   "name": "python3"
  },
  "language_info": {
   "codemirror_mode": {
    "name": "ipython",
    "version": 3
   },
   "file_extension": ".py",
   "mimetype": "text/x-python",
   "name": "python",
   "nbconvert_exporter": "python",
   "pygments_lexer": "ipython3",
   "version": "3.9.7"
  }
 },
 "nbformat": 4,
 "nbformat_minor": 5
}
