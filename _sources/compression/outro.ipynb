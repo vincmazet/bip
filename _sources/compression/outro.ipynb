{
 "cells": [
  {
   "cell_type": "markdown",
   "id": "1132db0e-58c0-4385-90fb-95a23a51004b",
   "metadata": {},
   "source": [
    "# Conclusion\n",
    "\n",
    "Image compression consists of reducing the memory size of an image while modifying it as little as possible to maintain a satisfactory quality.\n",
    "What is \"satisfactory\" depends on the application: the goal is not the same for a consumer photograph and a medical image.\n",
    "\n",
    "There are two types of image compression.\n",
    "Lossless compression (_e.g._ BMP, GIF, PNG...) does not change the image but the compression gain is limited.\n",
    "On the contrary, lossy compression (_e.g._ JPEG) is able to reach a high compression rate but may lose information;\n",
    "this is why lossy compression should not be used for images with few details, like cartoons or logos."
   ]
  }
 ],
 "metadata": {
  "kernelspec": {
   "display_name": "Python 3 (ipykernel)",
   "language": "python",
   "name": "python3"
  },
  "language_info": {
   "codemirror_mode": {
    "name": "ipython",
    "version": 3
   },
   "file_extension": ".py",
   "mimetype": "text/x-python",
   "name": "python",
   "nbconvert_exporter": "python",
   "pygments_lexer": "ipython3",
   "version": "3.9.7"
  }
 },
 "nbformat": 4,
 "nbformat_minor": 5
}
