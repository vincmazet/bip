{
 "cells": [
  {
   "cell_type": "markdown",
   "id": "1132db0e-58c0-4385-90fb-95a23a51004b",
   "metadata": {},
   "source": [
    "# Conclusion\n",
    "\n",
    "<!-- The goal of image compression is to minimize the storage needs while keeping a good visual quality of the image.\n",
    "Two kinds of compression exist: lossless (BMP, GIF, PNG...) and lossy (JPEG).\n",
    "While lossy compression is attractive, it should be used carefully because some images, like cartoons or logos,\n",
    "may be visually impacted by the compression.\n",
    "\n",
    "\n",
    "\n",
    "La compression d'image consiste à réduire la taille mémoire d'une image tout en la modifiant le moins possible, afin qu'elle représente la même chose et conserve une qualité satisfaisante. Cette dernière notion dépend de l'application : on n'a pas les mêmes attentes pour une photographie grand public et une image médicale.  Il existe deux types de compression d'image : lossless compression (e.g. BMP, GIF, PNG…) does not change the image but the compression gain is limited. On the contrary, lossy compression  (e.g. JPEG) is able to reach high compression rate but may loose informations; this is why lossy compression should not be used for image avec peu de détails, like cartoons or logos. -->"
   ]
  }
 ],
 "metadata": {
  "kernelspec": {
   "display_name": "Python 3 (ipykernel)",
   "language": "python",
   "name": "python3"
  },
  "language_info": {
   "codemirror_mode": {
    "name": "ipython",
    "version": 3
   },
   "file_extension": ".py",
   "mimetype": "text/x-python",
   "name": "python",
   "nbconvert_exporter": "python",
   "pygments_lexer": "ipython3",
   "version": "3.9.7"
  }
 },
 "nbformat": 4,
 "nbformat_minor": 5
}
