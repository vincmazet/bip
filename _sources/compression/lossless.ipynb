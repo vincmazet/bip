{
 "cells": [
  {
   "cell_type": "markdown",
   "id": "99de8d89-6862-432f-9730-094cc110241c",
   "metadata": {},
   "source": [
    "(compression:lossless)=\n",
    "# Lossless compression\n",
    "\n",
    "Here are two examples of lossless image compression.\n",
    "\n",
    "## Run-length encoding\n",
    "\n",
    "RLE (run-length encoding) replaces a sequence of pixels of the same color with the number of pixels in that sequence.\n",
    "Therefore, the image {numref}`F:compression:rle` needs 9 bytes to be stored without any compression.\n",
    "By reading the image column after column, the bytes are:\n",
    "\n",
    "$$\n",
    "  \\begin{pmatrix} 0 & 0 & 0 & 255 & 255 & 255 & 255 & 128 & 128 \\end{pmatrix}.\n",
    "$$\n",
    "\n",
    "\n",
    "```{figure} rle.svg\n",
    "---\n",
    "name: F:compression:rle\n",
    "---\n",
    "A 3 × 3 image.\n",
    "```\n",
    "\n",
    "We see 3 pixels with intensity 0, 4 pixels with intensity 255, and 2 pixels with intensity 128.\n",
    "Thus the image is encoded in RLE with only 6 bytes:\n",
    "\n",
    "$$\n",
    "  \\begin{pmatrix} 3 & 0 & 4 & 255 & 2 & 128 \\end{pmatrix}.\n",
    "$$\n",
    "\n",
    "In this example, the compression rate is 6/9 = 2/3.\n",
    "\n",
    "In computers, BMP format is based on RLE compression.\n",
    "\n",
    "## Lempel-Ziv-Welch Algorithm\n",
    "\n",
    "The LZW algorithm (Lempel-Ziv-Welch, 1984) is an improvement of the LZ78 algorithm (1978).\n",
    "It is used in format such as GIF or TIFF.\n",
    "In short, the principle is to build a dictionary where the \"words\" are groups of pixels and to assign a code to each group.\n",
    "The dictionary is built during the compression stage and depends on the image.\n",
    "\n",
    "<!--\n",
    " The algorithm is the following one:\n",
    " Initialize the dictionary with all the possible intensities\n",
    " For each pixel:\n",
    "   Look to the longest sequence in the dictionary that starts at this pixel\n",
    "   Replace this sequence with the corresponding code\n",
    "   Add to the dictionary the sequence followed by the next pixel -->\n"
   ]
  }
 ],
 "metadata": {
  "kernelspec": {
   "display_name": "Python 3 (ipykernel)",
   "language": "python",
   "name": "python3"
  },
  "language_info": {
   "codemirror_mode": {
    "name": "ipython",
    "version": 3
   },
   "file_extension": ".py",
   "mimetype": "text/x-python",
   "name": "python",
   "nbconvert_exporter": "python",
   "pygments_lexer": "ipython3",
   "version": "3.9.7"
  }
 },
 "nbformat": 4,
 "nbformat_minor": 5
}
