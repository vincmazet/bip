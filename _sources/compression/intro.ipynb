{
 "cells": [
  {
   "cell_type": "markdown",
   "id": "57919626-24ba-4b9c-81ed-1eebd53c668b",
   "metadata": {},
   "source": [
    "# Introduction\n",
    "\n",
    "How many bytes are needed to code one second of Full HD video?\n",
    "\n",
    "```{dropdown} Solution\n",
    "A Full HD video is characterized by images of size 1920 × 1080, each of the three channels (RGB) is coded with 1 byte, and there are 50 frames per second.\n",
    "\n",
    "One second contains 1920 × 1080 × 3 × 50 = 311 040 000 bytes, or around 311 Mb.\n",
    "Thus, a DVD (4,7 Gb) can store only 15 seconds of a movie... 😲\n",
    "You would need more than 600 DVDs to watch a movie...\n",
    "```\n",
    "\n",
    "This example shows the need for image compression!\n",
    "The purpose of image compression is to encode the _information_ contained in the image with fewer bytes than the original image.\n",
    "\n",
    "OK, but how to quantify information?\n",
    "In 1948, [Claude Shannon](https://en.wikipedia.org/wiki/Claude_Shannon) proposed that an image or a message is very informative if it is unlikely.\n",
    "It is still the mathematical definition of information today.\n",
    "\n",
    "We distinguish two kinds of compression:\n",
    "\n",
    "* With [](compression:lossless), no information is lost during compression,\n",
    "  _i.e._ the original image and the compressed image are perfectly identical.\n",
    "  It is possible to reach a compression ratio up to 1/10\n",
    "  (the size in bytes of the compressed image is 1/10 of the original one).\n",
    "  \n",
    "* In [](compression:lossy), we accept to lose information during compression\n",
    "  (while ensuring that the original image remains close to the original one).\n",
    "  The compression ratio can reach up to 1/100!"
   ]
  }
 ],
 "metadata": {
  "kernelspec": {
   "display_name": "Python 3 (ipykernel)",
   "language": "python",
   "name": "python3"
  },
  "language_info": {
   "codemirror_mode": {
    "name": "ipython",
    "version": 3
   },
   "file_extension": ".py",
   "mimetype": "text/x-python",
   "name": "python",
   "nbconvert_exporter": "python",
   "pygments_lexer": "ipython3",
   "version": "3.9.7"
  }
 },
 "nbformat": 4,
 "nbformat_minor": 5
}
