{
 "cells": [
  {
   "cell_type": "markdown",
   "metadata": {},
   "source": [
    "(C:digital-images:operations)=\n",
    "# Arithmetic operations"
   ]
  },
  {
   "cell_type": "markdown",
   "metadata": {},
   "source": [
    "\n",
    "\n",
    "In the end, an image is an array of numbers.\n",
    "So mathematical operations can be performed on these numbers.\n",
    "In this section, we consider 2D images but the generalization to different dimensions is obvious."
   ]
  },
  {
   "cell_type": "markdown",
   "metadata": {},
   "source": [
    "## Addition\n",
    "\n",
    "The addition of two images $f$ and $g$ of the same size results in a new image $h$ of the same size\n",
    "whose pixels are the sum of the pixels in the original images:\n",
    "\n",
    "$$\n",
    "\\forall m, n,\\quad\n",
    "h(m,n) = f(m,n) + g(m,n).\n",
    "$$\n",
    "\n",
    "{numref}`F:intro:addition` gives an example of image addition to produce an artistic effect.\n",
    "Addition can also be used to [denoise a series of images](denoising).\n",
    "\n",
    "```{figure} addition.svg\n",
    "---\n",
    "name: F:intro:addition\n",
    "---\n",
    "The image on the right is the sum between the two images on the left.\n",
    "```"
   ]
  },
  {
   "cell_type": "markdown",
   "metadata": {},
   "source": [
    "## Subtraction\n",
    "\n",
    "The subtraction of two images is used for example to detect changes ({numref}`F:intro:subtraction`).\n",
    "\n",
    "$$\n",
    "&\\forall m, n,\\quad h(m,n) = f(m,n) - g(m,n) \\\\\n",
    "\\text{or}\\qquad\n",
    "&\\forall m, n,\\quad h(m,n) = | f(m,n) - g(m,n) |\n",
    "$$\n",
    "\n",
    "```{figure} subtraction.svg\n",
    "---\n",
    "name: F:intro:subtraction\n",
    "---\n",
    "The image on the right is the difference between the two images on the left.\n",
    "Note that the image of difference has values between $-255$ and $255$.\n",
    "```"
   ]
  },
  {
   "cell_type": "markdown",
   "metadata": {},
   "source": [
    "## Division\n",
    "\n",
    "The division of two images is used to correct non-homogeneous illumination.\n",
    "{numref}`F:intro:division` illustrates the removal of shadow.\n",
    "\n",
    "$$\n",
    "\\forall m, n,\\quad\n",
    "h(m,n) = \\frac{f(m,n)}{g(m,n)}.\n",
    "$$\n",
    "\n",
    "```{figure} division.svg\n",
    "---\n",
    "name: F:intro:division\n",
    "---\n",
    "The right image is the division of the left image by the right image.\n",
    "```"
   ]
  }
 ],
 "metadata": {
  "kernelspec": {
   "display_name": "Python 3 (ipykernel)",
   "language": "python",
   "name": "python3"
  },
  "language_info": {
   "codemirror_mode": {
    "name": "ipython",
    "version": 3
   },
   "file_extension": ".py",
   "mimetype": "text/x-python",
   "name": "python",
   "nbconvert_exporter": "python",
   "pygments_lexer": "ipython3",
   "version": "3.9.7"
  }
 },
 "nbformat": 4,
 "nbformat_minor": 4
}
