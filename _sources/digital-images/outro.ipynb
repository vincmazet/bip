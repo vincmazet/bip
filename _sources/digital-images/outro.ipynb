{
 "cells": [
  {
   "cell_type": "markdown",
   "id": "693870fa-4e4d-494a-9fb6-74e5361b7bd5",
   "metadata": {},
   "source": [
    "(C:digital-images:outro)=\n",
    "# Conclusion"
   ]
  },
  {
   "cell_type": "markdown",
   "id": "f88d739f-04b0-4a95-979c-f7bd93ff9f02",
   "metadata": {},
   "source": [
    "A digital image is essentially an array that associates to each coordinate $(m,\\,n,\\,\\dots) \\in \\mathbb{N}^d$ a set of intensities $\\{i_1,\\dots,i_B\\} \\in \\mathbb{R}^B$.\n",
    "Typically, images are two-dimensional ($d=2$) and can be either grayscale ($B=1$) or RGB ($B=3$).\n",
    "\n",
    "RGB images reproduce the colors perceived by the human visual system.\n",
    "This is achieved by employing a red--green--blue Bayer filter during acquisition, and using red, green, and blue luminophores for display on a screen.\n",
    "The digitization of a natural image involves both sampling and quantization, processes that can introduce distortions, such as the moiré effect.\n",
    "Additional distortions that can affect images are noise and blur.\n",
    "\n",
    "To display an image, a colormap must be defined in order to associate a gray level or a color to each intensity.\n",
    "Some colormaps are very interesting for their ability to enhance specific image details.\n",
    "\n",
    "Fundamental image processing operations involve basic array manipulations (addition, subtraction or division).\n",
    "\n",
    "The histogram is a graphical representation of the intensity distribution in a digital image:\n",
    "the horizontal axis represents the intensities and the vertical axis represents the number of pixels at each intensity.\n",
    "It shows how the intensities of the pixels are distributed, regardless of their spatial position.\n",
    "The histogram will be used especially for [Segmentation](C:segmentation:intro).\n",
    "\n",
    "The next chapters list more complex tools for modifying the image or extracting information from it.\n",
    "\n",
    "<!-- Train yourself with this 🎓 [quizz](https://moodle.unistra.fr/mod/quiz/view.php?id=301557) (Moodle only)! -->\n",
    "\n",
    "## References\n",
    "\n",
    "* (B:histogram:Gonzalez2010)=\n",
    "  R.C. Gonzalez and R.E. Woods,\n",
    "  _Digital Image Processing_,\n",
    "  Pearson, 2010.\n",
    "\n",
    "* (B:digital-images:Jahne2005)=\n",
    "  B. Jähne,\n",
    "  _Digital Image Processing_,\n",
    "  Springer, 2005.                                                                          "
   ]
  }
 ],
 "metadata": {
  "kernelspec": {
   "display_name": "Python 3 (ipykernel)",
   "language": "python",
   "name": "python3"
  },
  "language_info": {
   "codemirror_mode": {
    "name": "ipython",
    "version": 3
   },
   "file_extension": ".py",
   "mimetype": "text/x-python",
   "name": "python",
   "nbconvert_exporter": "python",
   "pygments_lexer": "ipython3",
   "version": "3.9.7"
  }
 },
 "nbformat": 4,
 "nbformat_minor": 5
}
