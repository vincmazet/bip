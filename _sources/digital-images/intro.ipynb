{
 "cells": [
  {
   "cell_type": "markdown",
   "id": "876e7b7d-0d33-4d75-a894-f8e4eab8af6b",
   "metadata": {},
   "source": [
    "(C:digital-images:intro)=\n",
    "# Introduction\n",
    "\n",
    "A digital image is a visual representation of a numerical array that measures a physical phenomenon.\n",
    "This introductory chapter begins by describing the principles of digital image acquisition,\n",
    "followed by a detailed definition of digital images,\n",
    "and concludes with some essential visualization and analysis tools.\n",
    "\n",
    "The human eye contains specific cells (cones) that are sensitive to color.\n",
    "Traditional image acquisition devices mimic this process by using colored filters placed in front of photodiodes\n",
    "which convert light intensity into electrical voltage.\n",
    "This explains why screens — and by extension, most images — are encoded using three channels corresponding to red, green, and blue.\n",
    "\n",
    "So, a digital image is a matrix of numbers with a graphical representation.\n",
    "Each number in this matrix corresponds to the light intensity and color of a specific element in the image (the so-called pixel).\n",
    "However, images are not limited to two dimensions and can also be multiband.\n",
    "\n",
    "Image quality is influenced by factors such as sampling, quantization, and various distortions like noise or blur.\n",
    "Because digital images are essentially numerical arrays, we can perform basic mathematical operations on them, such as addition, subtraction, and division.\n",
    "Lastly, we will introduce the concept of the histogram, which represents the distribution of image intensities,\n",
    "as well as some intensity transformations that can be applied."
   ]
  }
 ],
 "metadata": {
  "kernelspec": {
   "display_name": "Python 3 (ipykernel)",
   "language": "python",
   "name": "python3"
  },
  "language_info": {
   "codemirror_mode": {
    "name": "ipython",
    "version": 3
   },
   "file_extension": ".py",
   "mimetype": "text/x-python",
   "name": "python",
   "nbconvert_exporter": "python",
   "pygments_lexer": "ipython3",
   "version": "3.9.7"
  }
 },
 "nbformat": 4,
 "nbformat_minor": 5
}
