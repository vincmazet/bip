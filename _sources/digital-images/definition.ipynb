{
 "cells": [
  {
   "cell_type": "markdown",
   "metadata": {},
   "source": [
    "# What is a digital image?"
   ]
  },
  {
   "cell_type": "markdown",
   "metadata": {},
   "source": [
    "## Definition\n",
    "\n",
    "```{margin}\n",
    "In very specific applications, the images may have a non-rectangular geometry.\n",
    "For example, some sensors have hexagonal pixels.\n",
    "We will not deal with this kind of image as it is very rare.\n",
    "```\n",
    "\n",
    "A digital image can be seen as a function $f$ from $\\mathbb{N}^d$ to $\\mathbb{R}^B$:\n",
    "it associates at each discrete coordinate $(m,\\,n,\\,\\dots) \\in \\mathbb{N}^d$\n",
    "a finite set of intensities $\\{i_1,\\dots,i_B\\} \\in \\mathbb{R}^B$:\n",
    "\n",
    "\n",
    "$$\n",
    "\\begin{aligned}\n",
    "  f:\\qquad\\;\n",
    "  \\mathbb{N}^d &\\to \\mathbb{R}^B \\\\\n",
    "  m,n,\\dots    &\\mapsto f(m,n,\\dots) = \\{i_1,\\dots,i_B\\}.\n",
    "\\end{aligned}\n",
    "$$\n",
    "\n",
    "A digital image can also be seen as an array of $d$ dimensions whose elements contain $B$ numbers.\n",
    "\n",
    "* For example, a [grayscale image](https://en.wikipedia.org/wiki/Grayscale) corresponds to $d=2$ (the image has two dimensions) and $B=1$\n",
    "(there is only one value per location $(m,n)$: the grayscale intensity).\n",
    "* A common color image corresponds to $d=2$ and $B=3$ (there are three bands: red, green, blue).\n",
    "* An [MRI image](https://en.wikipedia.org/wiki/Magnetic_resonance_imaging) corresponds to $d=3$ (the image is three-dimensional) and $B=1$.\n",
    "\n",
    "In the general case of a 2-dimensional image $f(m,n)$ of size $M \\times N$,\n",
    "one uses the coordinate system showed {numref}`F:intro:coordinates`:\n",
    "the pixel at coordinates $(0,0)$ is on the top left corner of the image.\n",
    "\n",
    "```{figure} coordinates.png\n",
    "---\n",
    "scale: 100%\n",
    "name: F:intro:coordinates\n",
    "---\n",
    "Coordinate system generally used in image processing.\n",
    "\n",
    "```"
   ]
  },
  {
   "cell_type": "markdown",
   "metadata": {},
   "source": [
    "## Diversity of images\n",
    "\n",
    "Digital images can be differentiated in several ways.\n",
    "\n",
    "### Dimension number $d$\n",
    "\n",
    "Common images (like photography) are 2D (2-dimensional) images whereas some other images lie in more than two dimensions.\n",
    "A 3D image, like in MRI, is often called \"3D image\" or \"cube\".\n",
    "A 1D image is actually a signal.\n",
    "The elements constituting a 2D image are called _pixels_ (for \"picture element\"),\n",
    "and the one constituting a 3D image are called _voxels_ (for \"volume element\").\n",
    "\n",
    "### Dimension heterogeneity\n",
    "\n",
    "In common 2D images, the two dimensions are both spatial dimensions.\n",
    "But the dimensions may represent another physical domain and be different.\n",
    "For example, a video can be seen as a 2D+$t$ image (two spatial dimensions, one temporal dimension),\n",
    "an MRI sequence can be seen as a 3D+$t$ image (three spatial dimensions, one temporal dimension),\n",
    "and a [hyperspectral image](https://en.wikipedia.org/wiki/Hyperspectral_imaging)\n",
    "is a 3D+$\\lambda$ image (two spatial dimensions, plus a third dimension depending on the wavelength).\n",
    "\n",
    "### Element dimension $B$\n",
    "\n",
    "Each element of an image can be scalar or vector.\n",
    "For example, the pixels in a 2D grayscale image gather only one value (the gray intensity).\n",
    "The pixels in photography gather three values (the intensity of red, green and blue).\n",
    "The images from the [Pléiades constellation](https://en.wikipedia.org/wiki/Pleiades_(satellite)) are RVB--IR,\n",
    "therefore they gather four values (red, green, blue, and infrared).\n",
    "\n",
    "### Element intensity set\n",
    "\n",
    "Common images have pixel intensities in the range $\\{0,1,\\dots,255\\}$,\n",
    "but a binary image has values in $\\{0,1\\}$.\n",
    "Often, the intensities are supposed to be real."
   ]
  },
  {
   "cell_type": "markdown",
   "metadata": {},
   "source": [
    "<!-- Fig 13 Hubele -> What is? -->"
   ]
  }
 ],
 "metadata": {
  "kernelspec": {
   "display_name": "Python 3",
   "language": "python",
   "name": "python3"
  },
  "language_info": {
   "codemirror_mode": {
    "name": "ipython",
    "version": 3
   },
   "file_extension": ".py",
   "mimetype": "text/x-python",
   "name": "python",
   "nbconvert_exporter": "python",
   "pygments_lexer": "ipython3",
   "version": "3.7.3"
  }
 },
 "nbformat": 4,
 "nbformat_minor": 4
}
